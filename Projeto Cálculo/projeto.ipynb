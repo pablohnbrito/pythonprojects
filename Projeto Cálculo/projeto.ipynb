{
 "cells": [
  {
   "cell_type": "code",
   "execution_count": 1,
   "metadata": {},
   "outputs": [
    {
     "data": {
      "text/plain": [
       "1"
      ]
     },
     "execution_count": 1,
     "metadata": {},
     "output_type": "execute_result"
    }
   ],
   "source": [
    "3%2"
   ]
  },
  {
   "cell_type": "code",
   "execution_count": 2,
   "metadata": {},
   "outputs": [
    {
     "data": {
      "text/plain": [
       "'AliceBob'"
      ]
     },
     "execution_count": 2,
     "metadata": {},
     "output_type": "execute_result"
    }
   ],
   "source": [
    "'Alice' 'Bob'"
   ]
  },
  {
   "cell_type": "code",
   "execution_count": 8,
   "metadata": {},
   "outputs": [
    {
     "name": "stdout",
     "output_type": "stream",
     "text": [
      "[-3.  2. -1.  7. -3.]\n"
     ]
    },
    {
     "ename": "AttributeError",
     "evalue": "module 'matplotlib' has no attribute 'plot'",
     "output_type": "error",
     "traceback": [
      "\u001b[1;31m---------------------------------------------------------------------------\u001b[0m",
      "\u001b[1;31mAttributeError\u001b[0m                            Traceback (most recent call last)",
      "Cell \u001b[1;32mIn[8], line 20\u001b[0m\n\u001b[0;32m     16\u001b[0m temperatura_pred \u001b[39m=\u001b[39m temperatura_obs[\u001b[39m-\u001b[39m\u001b[39m1\u001b[39m] \u001b[39m+\u001b[39m (derivada_temperatura[\u001b[39m-\u001b[39m\u001b[39m1\u001b[39m]\u001b[39m*\u001b[39mtempo_pred)\n\u001b[0;32m     18\u001b[0m \u001b[39mprint\u001b[39m(derivada_temperatura)\n\u001b[1;32m---> 20\u001b[0m plt\u001b[39m.\u001b[39;49mplot(tempo_obs, temperatura_obs, \u001b[39m'\u001b[39m\u001b[39mbo-\u001b[39m\u001b[39m'\u001b[39m, label \u001b[39m=\u001b[39m\u001b[39m'\u001b[39m\u001b[39mObservado\u001b[39m\u001b[39m'\u001b[39m)\n\u001b[0;32m     21\u001b[0m plt\u001b[39m.\u001b[39mplot(tempo_pred, temperatura_pred, \u001b[39m'\u001b[39m\u001b[39mr--\u001b[39m\u001b[39m'\u001b[39m, label \u001b[39m=\u001b[39m \u001b[39m'\u001b[39m\u001b[39mPrevisão\u001b[39m\u001b[39m'\u001b[39m)\n\u001b[0;32m     22\u001b[0m plt\u001b[39m.\u001b[39mxlabel(\u001b[39m'\u001b[39m\u001b[39mTempo (horas)\u001b[39m\u001b[39m'\u001b[39m)\n",
      "File \u001b[1;32m~\\AppData\\Local\\Packages\\PythonSoftwareFoundation.Python.3.11_qbz5n2kfra8p0\\LocalCache\\local-packages\\Python311\\site-packages\\matplotlib\\_api\\__init__.py:226\u001b[0m, in \u001b[0;36mcaching_module_getattr.<locals>.__getattr__\u001b[1;34m(name)\u001b[0m\n\u001b[0;32m    224\u001b[0m \u001b[39mif\u001b[39;00m name \u001b[39min\u001b[39;00m props:\n\u001b[0;32m    225\u001b[0m     \u001b[39mreturn\u001b[39;00m props[name]\u001b[39m.\u001b[39m\u001b[39m__get__\u001b[39m(instance)\n\u001b[1;32m--> 226\u001b[0m \u001b[39mraise\u001b[39;00m \u001b[39mAttributeError\u001b[39;00m(\n\u001b[0;32m    227\u001b[0m     \u001b[39mf\u001b[39m\u001b[39m\"\u001b[39m\u001b[39mmodule \u001b[39m\u001b[39m{\u001b[39;00m\u001b[39mcls\u001b[39m\u001b[39m.\u001b[39m\u001b[39m__module__\u001b[39m\u001b[39m!r}\u001b[39;00m\u001b[39m has no attribute \u001b[39m\u001b[39m{\u001b[39;00mname\u001b[39m!r}\u001b[39;00m\u001b[39m\"\u001b[39m)\n",
      "\u001b[1;31mAttributeError\u001b[0m: module 'matplotlib' has no attribute 'plot'"
     ]
    }
   ],
   "source": [
    "import numpy as np\n",
    "import matplotlib.pyplot as plt\n",
    "\n",
    "tempo_obs = np.array([0,1,2,3,4,5])\n",
    "temperatura_obs = np.array([26,23,25,24,31,28])\n",
    "\n",
    "def calcular_derivada(tempo, temperatura):\n",
    "    dt = np.diff(tempo)\n",
    "    dT = np.diff(temperatura)\n",
    "    derivada = dT / dt\n",
    "    return derivada\n",
    "\n",
    "derivada_temperatura = calcular_derivada(tempo_obs, temperatura_obs)\n",
    "\n",
    "tempo_pred = np.arange(6,10)\n",
    "temperatura_pred = temperatura_obs[-1] + (derivada_temperatura[-1]*tempo_pred)\n",
    "\n",
    "print(derivada_temperatura)\n",
    "\n",
    "plt.plot(tempo_obs, temperatura_obs, 'bo-', label ='Observado')\n",
    "plt.plot(tempo_pred, temperatura_pred, 'r--', label = 'Previsão')\n",
    "plt.xlabel('Tempo (horas)')\n",
    "plt.ylabel('Temperatura (horas)')\n",
    "plt.legend()\n",
    "plt.show()\n"
   ]
  }
 ],
 "metadata": {
  "kernelspec": {
   "display_name": "Python 3",
   "language": "python",
   "name": "python3"
  },
  "language_info": {
   "codemirror_mode": {
    "name": "ipython",
    "version": 3
   },
   "file_extension": ".py",
   "mimetype": "text/x-python",
   "name": "python",
   "nbconvert_exporter": "python",
   "pygments_lexer": "ipython3",
   "version": "3.11.3"
  },
  "orig_nbformat": 4
 },
 "nbformat": 4,
 "nbformat_minor": 2
}
